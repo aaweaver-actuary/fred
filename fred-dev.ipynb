{
 "cells": [
  {
   "cell_type": "code",
   "execution_count": 1,
   "metadata": {},
   "outputs": [],
   "source": [
    "import pandas as pd\n",
    "from fredapi import Fred"
   ]
  },
  {
   "cell_type": "code",
   "execution_count": 2,
   "metadata": {},
   "outputs": [],
   "source": [
    "API_KEY = \"6fdbb61cb54157f0dacbe0b99b6b0cfa\""
   ]
  },
  {
   "cell_type": "code",
   "execution_count": 7,
   "metadata": {},
   "outputs": [
    {
     "data": {
      "text/plain": [
       "1976-06-01    0.80\n",
       "1976-07-01    0.98\n",
       "1976-08-01    1.14\n",
       "1976-09-01    1.17\n",
       "1976-10-01    1.43\n",
       "              ... \n",
       "2023-02-01   -0.78\n",
       "2023-03-01   -0.64\n",
       "2023-04-01   -0.56\n",
       "2023-05-01   -0.56\n",
       "2023-06-01   -0.89\n",
       "Length: 565, dtype: float64"
      ]
     },
     "execution_count": 7,
     "metadata": {},
     "output_type": "execute_result"
    }
   ],
   "source": [
    "fred = Fred(api_key=API_KEY)\n",
    "# data = {}\n",
    "data = fred.get_series('T10Y2YM')\n",
    "data"
   ]
  },
  {
   "cell_type": "code",
   "execution_count": 10,
   "metadata": {},
   "outputs": [],
   "source": [
    "interest_rate_spreads = {\n",
    "    # yield curve\n",
    "    '10y-2y': fred.get_series('T10Y2Y', observation_start='2015-01-01'),\n",
    "    '10y-3m': fred.get_series('T10Y3M', observation_start='2015-01-01'),\n",
    "    '10y-fedfunds': fred.get_series('T10YFF', observation_start='2015-01-01'),\n",
    "    '5y-fedfunds': fred.get_series('T5YFF', observation_start='2015-01-01'),\n",
    "    '1y-fedfunds': fred.get_series('T1YFF', observation_start='2015-01-01'),\n",
    "    '6m-fedfunds': fred.get_series('T6MFF', observation_start='2015-01-01'),\n",
    "    '3m-fedfunds': fred.get_series('TB3SMFFM', observation_start='2015-01-01'),\n",
    "\n",
    "    # breakeven inflation\n",
    "    '30y_breakeven': fred.get_series('T30YIEM', observation_start='2015-01-01'),\n",
    "    '20y_breakeven': fred.get_series('T20YIEM', observation_start='2015-01-01'),\n",
    "    '10y_breakeven': fred.get_series('T10YIEM', observation_start='2015-01-01'),\n",
    "    '7y_breakeven': fred.get_series('T7YIEM', observation_start='2015-01-01'),\n",
    "    '5y_breakeven': fred.get_series('T5YIEM', observation_start='2015-01-01'),\n",
    "\n",
    "    # expected forward inflation\n",
    "    '5y-5yFwd': fred.get_series('T5YIFR', observation_start='2015-01-01'),\n",
    "\n",
    "    # corporate bonds vs treasuries\n",
    "    'aaaBonds-10y': fred.get_series('AAA10Y', observation_start='2015-01-01'),\n",
    "    'aaaBonds-fedfunds': fred.get_series('AAAFF', observation_start='2015-01-01'),\n",
    "    'baaBonds-10y': fred.get_series('BAA10Y', observation_start='2015-01-01'),\n",
    "    '3mCommPaper-fedfunds': fred.get_series('CPFF', observation_start='2015-01-01'),\n",
    "}"
   ]
  },
  {
   "cell_type": "code",
   "execution_count": 11,
   "metadata": {},
   "outputs": [],
   "source": [
    "financial_activity_measures = {\n",
    "    # chicago fed indices\n",
    "    'chi-financial_conditions': fred.get_series('NFCI', observation_start='2015-01-01'),\n",
    "    'chi-adj_financial_conditions': fred.get_series('ANFCI', observation_start='2015-01-01'),\n",
    "    'chi-fc_leverage': fred.get_series('NFCILEVERAGE', observation_start='2015-01-01'),\n",
    "    'chi-fc_credit': fred.get_series('NFCICREDIT', observation_start='2015-01-01'),\n",
    "    'chi-fc_risk': fred.get_series('NFCIRISK', observation_start='2015-01-01'),\n",
    "\n",
    "    'chi-national_activity': fred.get_series('CFNAI', observation_start='2015-01-01'),\n",
    "    'chi-national_activity_3movavg': fred.get_series('CFNAIMA3', observation_start='2015-01-01'),\n",
    "    'chi-national_activity_'\n",
    "\n",
    "    'umichigan_consumer_sentiment': fred.get_series('UMCSENT', observation_start='2015-01-01'),\n",
    "    'stlouis_financial_stress_index': fred.get_series('STLFSI', observation_start='2015-01-01'),\n",
    "    'leading_index_us': fred.get_series('USSLIND', observation_start='2015-01-01'),\n",
    "}"
   ]
  }
 ],
 "metadata": {
  "kernelspec": {
   "display_name": ".env",
   "language": "python",
   "name": "python3"
  },
  "language_info": {
   "codemirror_mode": {
    "name": "ipython",
    "version": 3
   },
   "file_extension": ".py",
   "mimetype": "text/x-python",
   "name": "python",
   "nbconvert_exporter": "python",
   "pygments_lexer": "ipython3",
   "version": "3.10.10"
  },
  "orig_nbformat": 4
 },
 "nbformat": 4,
 "nbformat_minor": 2
}
